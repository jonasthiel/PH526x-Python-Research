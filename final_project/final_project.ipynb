{
 "cells": [
  {
   "cell_type": "markdown",
   "metadata": {},
   "source": [
    "# Activity Classification"
   ]
  },
  {
   "cell_type": "markdown",
   "metadata": {},
   "source": [
    "## Table of Contents"
   ]
  },
  {
   "cell_type": "markdown",
   "metadata": {},
   "source": [
    "[1. Introduction](#introduction)\n",
    "<a href='#introduction'></a>\n",
    "<br />\n",
    "[2. Methods](#methods)\n",
    "<a href='#methods'></a>\n",
    "<br />\n",
    "[3. Results](#results)\n",
    "<a href='#results'></a>\n",
    "<br />\n",
    "[4. Conclusion](#conclusion)\n",
    "<a href='#conclusion'></a>"
   ]
  },
  {
   "cell_type": "markdown",
   "metadata": {},
   "source": [
    "<a id='introduction'></a>\n",
    "## 1. Introduction"
   ]
  },
  {
   "cell_type": "markdown",
   "metadata": {},
   "source": [
    "__Goal:__\n",
    "<br>\n",
    "The goal of this project was to predict the type of physical activity (e.g., walking, climbing stairs) from tri-axial smartphone accelerometer data. \n",
    "\n",
    "__Data set:__\n",
    "<br>\n",
    "The input data used for training in this project consists of two files. The first file, train_time_series.csv, contains the raw accelerometer data and has the following format:\n",
    "\n",
    "    timestamp, UTC time, accuracy, x, y, z\n",
    "\n",
    "The second file, train_labels.csv, contains the activity labels. Different activities have been numbered with integers and follow the following encoding: 1 = standing, 2 = walking, 3 = stairs down, 4 = stairs up. Because the accelerometers are sampled at high frequency, the labels in train_labels.csv are only provided for every 10th observation in train_time_series.csv.\n",
    "\n",
    "In addition, the test data consists of two files as well. The first file, test_time_series.csv, contains the raw accelerometer data and equals the first file of the training data. The second file, test_labels.csv, provides every 10th data point of test_time_series.csv for which a label has to be predicted."
   ]
  },
  {
   "cell_type": "markdown",
   "metadata": {},
   "source": [
    "### Importing Libraries"
   ]
  },
  {
   "cell_type": "code",
   "execution_count": null,
   "metadata": {},
   "outputs": [],
   "source": [
    "from time import process_time\n",
    "import pandas as pd\n",
    "import numpy as np\n",
    "from sklearn.ensemble import RandomForestClassifier\n",
    "from sklearn.metrics import accuracy_score\n",
    "from sklearn.metrics import r2_score"
   ]
  },
  {
   "cell_type": "markdown",
   "metadata": {},
   "source": [
    "### Loading Data from CSV"
   ]
  },
  {
   "cell_type": "code",
   "execution_count": null,
   "metadata": {},
   "outputs": [],
   "source": [
    "# Take starting time to calculate code run time\n",
    "start = process_time()"
   ]
  },
  {
   "cell_type": "code",
   "execution_count": null,
   "metadata": {},
   "outputs": [],
   "source": [
    "# Load train and test data\n",
    "df_trainTime_raw = pd.read_csv('train_time_series.csv')\n",
    "df_trainLabels_raw = pd.read_csv('train_labels.csv')\n",
    "df_testTime_raw = pd.read_csv('test_time_series.csv')\n",
    "df_testLabels_raw = pd.read_csv('test_labels.csv')"
   ]
  },
  {
   "cell_type": "markdown",
   "metadata": {},
   "source": [
    "<a id='methods'></a>\n",
    "## 2. Methods"
   ]
  },
  {
   "cell_type": "markdown",
   "metadata": {},
   "source": [
    "### Data Preparation"
   ]
  },
  {
   "cell_type": "code",
   "execution_count": null,
   "metadata": {},
   "outputs": [],
   "source": [
    "# Drop columns 'Unnamed: 0', 'UTC time', and 'accuracy' for training data\n",
    "df_trainTime = df_trainTime_raw.drop(columns=['Unnamed: 0', 'UTC time', 'accuracy'])\n",
    "\n",
    "# Drop columns 'Unnamed: 0' and 'UTC time' for labels data \n",
    "df_trainLabels = df_trainLabels_raw.drop(columns=['Unnamed: 0', 'UTC time'])\n",
    "\n",
    "# Merge data frames 'df_trainTime' and 'df_trainLabels' (i.e. add column 'label' to 'df_trainTime')\n",
    "df_trainTimeLabels = pd.merge(df_trainTime, df_trainLabels, how=\"outer\", on=\"timestamp\")\n",
    "\n",
    "# Propagate labels by forward (row 3 et seqq.) and backward (row 1 to 3) fill to full training data \n",
    "df_trainTimeLabels['label'] = df_trainTimeLabels['label'].fillna(method=\"ffill\").fillna(method=\"backfill\")\n",
    "\n",
    "# Create training data (i.e. data points with propagated labels are used as training data)\n",
    "X_train = df_trainTimeLabels[~df_trainTimeLabels['timestamp'].isin(df_trainLabels['timestamp'])].drop(columns=['timestamp', 'label'])\n",
    "y_train = df_trainTimeLabels[~df_trainTimeLabels['timestamp'].isin(df_trainLabels['timestamp'])].drop(columns=['timestamp', 'x', 'y', 'z'])\n",
    "\n",
    "# Create test data (i.e. data points with originally given label are used as test data)\n",
    "X_test = df_trainTimeLabels[df_trainTimeLabels['timestamp'].isin(df_trainLabels['timestamp'])].drop(columns=['timestamp', 'label'])\n",
    "y_test = df_trainTimeLabels[df_trainTimeLabels['timestamp'].isin(df_trainLabels['timestamp'])].drop(columns=['timestamp', 'x', 'y', 'z'])"
   ]
  },
  {
   "cell_type": "markdown",
   "metadata": {},
   "source": [
    "### Building and Evaluating Classifier"
   ]
  },
  {
   "cell_type": "code",
   "execution_count": null,
   "metadata": {},
   "outputs": [],
   "source": [
    "# Initialize classifier\n",
    "forest_classifier = RandomForestClassifier(max_depth=10, n_estimators = 100)\n",
    "\n",
    "# Train classifier on self-created training data\n",
    "forest_classifier.fit(X_train, y_train['label'].to_numpy())\n",
    "\n",
    "# Make predictions\n",
    "preds = forest_classifier.predict(X_test)\n",
    "\n",
    "# Evaluate accuracy on self-created test data\n",
    "accuracy = accuracy_score(y_test['label'].to_numpy(), preds)"
   ]
  },
  {
   "cell_type": "markdown",
   "metadata": {},
   "source": [
    "### Predicting Labels on Test Set"
   ]
  },
  {
   "cell_type": "code",
   "execution_count": null,
   "metadata": {},
   "outputs": [],
   "source": [
    "# Create test set\n",
    "df_testTime = df_testTime_raw[df_testTime_raw['timestamp'].isin(df_testLabels_raw['timestamp'])]\n",
    "\n",
    "# Drop columns 'Unnamed: 0', 'timestamp', 'UTC time', and 'accuracy' for test data\n",
    "df_testTime = df_testTime.drop(columns=['Unnamed: 0', 'timestamp', 'UTC time', 'accuracy'])\n",
    "\n",
    "# Make predictions on test set\n",
    "preds = forest_classifier.predict(df_testTime)\n",
    "\n",
    "# Set column 'Unnamed: 0' as index without an index name\n",
    "df_testLabels = df_testLabels_raw.set_index('Unnamed: 0')\n",
    "df_testLabels.index.name = None\n",
    "\n",
    "# Add class predictions to column 'label'\n",
    "df_testLabels['label'] = preds\n",
    "\n",
    "# Create CSV file 'test_labels.csv'\n",
    "df_testLabels.to_csv('test_labels.csv')"
   ]
  },
  {
   "cell_type": "code",
   "execution_count": null,
   "metadata": {},
   "outputs": [],
   "source": [
    "# Take end time to calculate code run time\n",
    "end = process_time()\n",
    "\n",
    "# Calculate code run time\n",
    "end - start"
   ]
  },
  {
   "cell_type": "markdown",
   "metadata": {},
   "source": [
    "<a id='results'></a>\n",
    "## 3. Results"
   ]
  },
  {
   "cell_type": "code",
   "execution_count": null,
   "metadata": {},
   "outputs": [],
   "source": [
    "# Print accuracy score on self-created test data\n",
    "print(accuracy)\n",
    "\n",
    "# Print the importance of each covariate in the random forest classification\n",
    "sorted(list(zip(X_test, forest_classifier.feature_importances_)), key=lambda tup: tup[1])"
   ]
  },
  {
   "cell_type": "markdown",
   "metadata": {},
   "source": [
    "<a id='conclusion'></a>\n",
    "## 4. Conclusion"
   ]
  },
  {
   "cell_type": "markdown",
   "metadata": {},
   "source": [
    "The classification accuracy score on the self-created test data is ~64% while the actual classification accuracy score on the not disclosed test data is between 40% and 50%."
   ]
  }
 ],
 "metadata": {
  "kernelspec": {
   "display_name": "Python 3",
   "language": "python",
   "name": "python3"
  },
  "language_info": {
   "codemirror_mode": {
    "name": "ipython",
    "version": 3
   },
   "file_extension": ".py",
   "mimetype": "text/x-python",
   "name": "python",
   "nbconvert_exporter": "python",
   "pygments_lexer": "ipython3",
   "version": "3.7.6"
  }
 },
 "nbformat": 4,
 "nbformat_minor": 2
}
